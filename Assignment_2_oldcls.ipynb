{
  "nbformat": 4,
  "nbformat_minor": 0,
  "metadata": {
    "colab": {
      "provenance": [],
      "collapsed_sections": []
    },
    "kernelspec": {
      "name": "python3",
      "display_name": "Python 3"
    },
    "language_info": {
      "name": "python"
    }
  },
  "cells": [
    {
      "cell_type": "markdown",
      "source": [
        "###Q.1.What are the two values of the Boolean data type? How do you write them?\n",
        "\n",
        "###Ans:\n",
        "The two values of the Boolean data type are 1 and 0. We write them as True and False respectively.\n",
        "\n",
        "we also use a function bool() to convert the data type."
      ],
      "metadata": {
        "id": "EGW0zvI828JE"
      }
    },
    {
      "cell_type": "markdown",
      "source": [
        "###Q.2. What are the three different types of Boolean operators?\n",
        "\n",
        "###Ans: \n",
        "The 3 types are: \n",
        "and operator \n",
        "or operator \n",
        "not operator\n"
      ],
      "metadata": {
        "id": "39zC7UrZ4Eko"
      }
    },
    {
      "cell_type": "markdown",
      "source": [
        "###Q.3.Make a list of each Boolean operator's truth tables (i.e. every possible combination of Boolean values for the operator and what it evaluate ).\n",
        "\n",
        "###Ans:\n",
        "\n",
        "and operator truth table\n",
        "\n",
        "a| b| output |\n",
        "-|-|-|\n",
        "False| True| False\n",
        "True| False| False\n",
        "True|True| True\n",
        "False|False| False\n",
        "\n",
        "\n",
        "\n",
        "\n",
        "or operator truth table\n",
        "\n",
        "a| b| output |\n",
        "-|-|-|\n",
        "False| True| True\n",
        "True| False| True\n",
        "True|True| True\n",
        "False|False| False\n",
        "\n",
        "\n",
        "not operator:\n",
        "b| output\n",
        "-|-|\n",
        "False| True\n",
        "True| False  \n",
        "\n",
        "\n"
      ],
      "metadata": {
        "id": "4m9U5w5B4jCN"
      }
    },
    {
      "cell_type": "markdown",
      "source": [
        "###Q.4. What are the values of the following expressions?\n",
        "(5 > 4) and (3 == 5)\n",
        "\n",
        "not (5 > 4)\n",
        "\n",
        "(5 > 4) or (3 == 5)\n",
        "\n",
        "not ((5 > 4) or (3 == 5))\n",
        "\n",
        "(True and True) and (True == False)\n",
        "\n",
        "(not False) or (not True)\n",
        "\n",
        "###Ans:\n",
        "(5 > 4) and (3 == 5)\n",
        "we can evaluate this as: True and False , which is False.\n",
        "\n",
        "\n",
        "not (5 > 4)\n",
        "we can evaluate this as: not(True),  which is False.\n",
        "\n",
        "(5 > 4) or (3 == 5)\n",
        "we can evaluate this as: True or False , which is True.\n",
        "\n",
        "not ((5 > 4) or (3 == 5))\n",
        "we can evaluate this as: not((True) or (False)) , which is False.\n",
        "\n",
        "(True and True) and (True == False)\n",
        "we can evaluate this as: True and False , which is False.\n",
        "\n",
        "(not False) or (not True)\n",
        "we can evaluate this as: True or False, which is True.\n"
      ],
      "metadata": {
        "id": "Io2W3kCo7JJj"
      }
    },
    {
      "cell_type": "markdown",
      "source": [
        "###Q.5. What are the six comparison operators?\n",
        "###Ans:\n",
        "The six comparison operators are, \n",
        "equals to(==)\n",
        "not equal to(!=)\n",
        "greater than(>)\n",
        "less than(<)\n",
        "greater than equal to(>=)\n",
        "lesser than equal to(<=)\n",
        "\n"
      ],
      "metadata": {
        "id": "odG6fcO59cEJ"
      }
    },
    {
      "cell_type": "markdown",
      "source": [
        "###Q.6. How do you tell the difference between the equal to and assignment operators?Describe a condition and when you would use one.\n",
        "\n",
        "###Ans:\n",
        "The syntax for 'equal to' and 'assignment operator' are different.\n",
        "\n",
        "x=5: we are assigning the value 5 to the variable x.\n",
        "\n",
        "10/2 ==5 : we are saying that on both the sides we are having same values.\n"
      ],
      "metadata": {
        "id": "ulMYU8wjUck5"
      }
    },
    {
      "cell_type": "markdown",
      "source": [
        "###Q.7. Identify the three blocks in this code:\n",
        "spam = 0\n",
        "if spam == 10:\n",
        "print('eggs')\n",
        "if spam > 5:\n",
        "print('bacon')\n",
        "else:\n",
        "print('ham')\n",
        "print('spam')\n",
        "print('spam')\n",
        "\n",
        "###Ans:\n",
        "The 3 block of codes are:\n",
        "\n",
        "if spam == 10:\n",
        "print('eggs')\n",
        "____________________________\n",
        "\n",
        "if spam > 5:\n",
        "print('bacon')\n",
        "___________________________\n",
        "\n",
        "else:\n",
        "print('ham')\n",
        "print('spam')\n",
        "print('spam')"
      ],
      "metadata": {
        "id": "-toz-QoZVU0r"
      }
    },
    {
      "cell_type": "markdown",
      "source": [
        "###Q.8. Write code that prints Hello if 1 is stored in spam, prints Howdy if 2 is stored in spam, and prints Greetings! if anything else is stored in spam.\n",
        "\n",
        "###Ans:\n",
        "spam=0\n",
        "\n",
        "if spam=1:\n",
        " print('Hello')\n",
        "\n",
        "if spam=2:\n",
        " print('Howdy')\n",
        " \n",
        "else:\n",
        " print('Greetings!')"
      ],
      "metadata": {
        "id": "-ntnB6izXO21"
      }
    },
    {
      "cell_type": "markdown",
      "source": [
        "###Q.9.If your programme is stuck in an endless loop, what keys you’ll press?\n",
        "\n",
        "###Ans: \n",
        "We need to press CTRL+C to end the loop."
      ],
      "metadata": {
        "id": "7LRR88rqZsr1"
      }
    },
    {
      "cell_type": "markdown",
      "source": [
        "###Q.10. How can you tell the difference between break and continue?\n",
        "\n",
        "###Ans:\n",
        "break: here, after reaching the particular condition, the loop stops.\n",
        "\n",
        "continue: here, after reaching at the particular condition, the loop skips that step and continue to run."
      ],
      "metadata": {
        "id": "8dGoXVbslJ3C"
      }
    },
    {
      "cell_type": "markdown",
      "source": [
        "###Q.11. In a for loop, what is the difference between range(10), range(0, 10), and range(0, 10, 1)?\n",
        "\n",
        "###Ans: \n",
        "In general, the above 3 range expression will give the same output.\n",
        "The numbers appear from 0 and end at 9.\n",
        "\n",
        "however range(10) means, we have not given any lower limit. So by default, it starts from 0.\n",
        "\n",
        "range(0,10), clearly mentions the lower and upper limit.\n",
        "\n",
        "range(0,10,1) gives the lower limit,upper limit and the gap/jump by which the integers are appearing."
      ],
      "metadata": {
        "id": "cFFTMgLImWb6"
      }
    },
    {
      "cell_type": "markdown",
      "source": [
        "###Q.12. Write a short program that prints the numbers 1 to 10 using a for loop. Then write an equivalent program that prints the numbers 1 to 10 using a while loop.\n",
        "\n",
        "###Ans:\n",
        "\n",
        "for i in range(1,11):\n",
        "\n",
        " print(i)\n",
        "\n",
        "___________________\n",
        "\n",
        "i=1\n",
        "\n",
        "while i <11:\n",
        "\n",
        " print(i) \n",
        " \n",
        " i = i+1\n"
      ],
      "metadata": {
        "id": "M-Ss1-bDnyeA"
      }
    },
    {
      "cell_type": "markdown",
      "source": [
        "###Q.13. If you had a function named bacon() inside a module named spam, how would you call it after importing spam?\n",
        "\n",
        "###Ans:\n",
        "We call a function from an imported module by entering the module name imported and the function name separated by a dot.\n",
        "so we call it as: spam.bacon()"
      ],
      "metadata": {
        "id": "fJRcylcgqIlF"
      }
    }
  ]
}
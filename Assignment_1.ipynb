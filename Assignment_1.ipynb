{
  "nbformat": 4,
  "nbformat_minor": 0,
  "metadata": {
    "colab": {
      "provenance": []
    },
    "kernelspec": {
      "name": "python3",
      "display_name": "Python 3"
    },
    "language_info": {
      "name": "python"
    }
  },
  "cells": [
    {
      "cell_type": "markdown",
      "source": [
        "###Q.1. In the below elements which of them are values or an expression? eg:- values can be\n",
        "integer or string and expressions will be mathematical operators.\n",
        "*\n",
        "'hello'\n",
        "-87.8\n",
        "-\n",
        "/\n",
        "+\n",
        "6\n",
        "\n",
        "####Ans:\n",
        "The values are: 'hello' , -87.8 , 6\n",
        "\n",
        "the expressions are: * ,  -  ,  / ,  + "
      ],
      "metadata": {
        "id": "r5k9IrMFikjG"
      }
    },
    {
      "cell_type": "markdown",
      "source": [
        "###Q.2. What is the difference between string and variable?\n",
        "###Ans:\n",
        "\n",
        "A variable is like a storage rack used to store the values. In future if the user calls that particular variable, the value stored in it will be produced.\n",
        "\n",
        "A string is like an array of letters or numbers or words. We can consider it as a single chain of pearl beads where the beads are the characters.\n",
        "\n",
        "Imagine , we are storing this pearl chain in a storage rack. It is same as storing the string in a variable.\n",
        "Not only string we can store a lot of other things in a variable."
      ],
      "metadata": {
        "id": "KBPzdReljy3F"
      }
    },
    {
      "cell_type": "markdown",
      "source": [
        "###Q.3. Describe three different data types.\n",
        "###Ans.\n",
        "There are many data types, but as we need to discuss about only 3, so let's consider the most commonly used datas.\n",
        "\n",
        "Integer: This data type takes only the integer values(includes both positive and negative). \n",
        "When we do any arithmetic operations like sum , the integers get added as normal mathematical calculation.\n",
        "\n",
        "\n",
        "Boolean: This data type takes the input like True/False or 1/0.\n",
        "These are most commonly used in conditional statements.\n",
        "\n",
        "String: This is an array of characters contained in quotes. \n",
        "If we perform any arithmetic operations like sum, the characters concatenate . Inside the quote it can hold, numbers,letters,_, etc."
      ],
      "metadata": {
        "id": "UaxoOzj6lSDE"
      }
    },
    {
      "cell_type": "markdown",
      "source": [
        "###Q.4. What is an expression made up of? What do all expressions do?\n",
        "###Ans: \n",
        "An expression is made up of operators and operands. \n",
        "The operators like + - / *  operate on the operands to produce some other output.\n",
        "\n",
        "The expressions are used for the mathematical or logical operations while writing a code."
      ],
      "metadata": {
        "id": "fXMgvmZ_nbkO"
      }
    },
    {
      "cell_type": "markdown",
      "source": [
        "###Q.5. This assignment statements, like spam = 10. What is the difference between an expression and a statement?\n",
        "###Ans:\n",
        "In an expression the operator tries to find a value or tries to operate on operand but in a statement, everything is fixed.\n",
        "\n",
        "Means,statement is just to show/print some data or it might be used to perform some action as per the statement.(more like a command)"
      ],
      "metadata": {
        "id": "Wbp4H46Wp22_"
      }
    },
    {
      "cell_type": "markdown",
      "source": [
        "###Q.6.After running the following code, what does the variable bacon contain?\n",
        "bacon = 22\n",
        "bacon + 1\n",
        "###Ans:\n",
        "\n",
        "The variable bacon contain 22 only.  Because we have assigned 22 to bacon. Performing an operation won't change the data location unless we assign a new location/new variable name."
      ],
      "metadata": {
        "id": "REm7rg28rR3w"
      }
    },
    {
      "cell_type": "markdown",
      "source": [
        "###Q.7. What should the values of the following two terms be?\n",
        "'spam'+'spamspam'          'spam'*3\n",
        "###Ans:\n",
        "\n",
        "The value of both of these will be same, which is 'spamspamspam'.\n",
        "In the first case the concatenation is happening as it is a string and in the second case spam word is getting thrice."
      ],
      "metadata": {
        "id": "UmIHv8hysEe8"
      }
    },
    {
      "cell_type": "markdown",
      "source": [
        "###Q.8. Why is eggs a valid variable name while 100 is invalid?\n",
        "\n",
        "###Ans:\n",
        "There are certain rules we need to follow, while assigning a variable name. One of them includes , the variable name can not start with a numerical value.\n",
        "However, it can start with an alphabet.\n",
        "Thus, eggs a valid variable name while 100 is invalid."
      ],
      "metadata": {
        "id": "V41QGWnjtGw6"
      }
    },
    {
      "cell_type": "markdown",
      "source": [
        "###Q.9. What three functions can be used to get the integer, floating-point number, or string version of a value?\n",
        "\n",
        "###Ans:\n",
        "we can use int() to get integer, float() to get floating-point number and str() to get string version of a value."
      ],
      "metadata": {
        "id": "cJNzm149t0rr"
      }
    },
    {
      "cell_type": "markdown",
      "source": [
        "###Q.10. Why does this expression cause an error? How can you fix it?\n",
        "'I have eaten' + 99 +'burritos'\n",
        "\n",
        "###Ans: \n",
        "Here we trying to add the above three datas. Clearly the first and last one are strings but the middle one is an integer.\n",
        "We can not perform sum on two diiferent data types. Means, we can't add string to integer.\n",
        "\n",
        "To solve this, we need to convert the integer 99 into string type by writing it like '99'."
      ],
      "metadata": {
        "id": "sjFWqxovuQOQ"
      }
    }
  ]
}